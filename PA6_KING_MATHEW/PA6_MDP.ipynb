{
  "nbformat": 4,
  "nbformat_minor": 0,
  "metadata": {
    "colab": {
      "name": "PA6_MDP.ipynb",
      "provenance": [],
      "collapsed_sections": []
    },
    "kernelspec": {
      "name": "python3",
      "display_name": "Python 3"
    },
    "accelerator": "GPU"
  },
  "cells": [
    {
      "cell_type": "code",
      "metadata": {
        "colab": {
          "base_uri": "https://localhost:8080/"
        },
        "id": "ZTzt3E00LwN5",
        "outputId": "73729b2e-97d8-445e-adb5-7e62e197854f"
      },
      "source": [
        "!pip install jdc"
      ],
      "execution_count": 1,
      "outputs": [
        {
          "output_type": "stream",
          "text": [
            "Collecting jdc\n",
            "  Downloading https://files.pythonhosted.org/packages/5a/cb/9afea749985eef20f3160e8826a531c7502e40c35a038dfe49b67726e9a0/jdc-0.0.9-py2.py3-none-any.whl\n",
            "Installing collected packages: jdc\n",
            "Successfully installed jdc-0.0.9\n"
          ],
          "name": "stdout"
        }
      ]
    },
    {
      "cell_type": "code",
      "metadata": {
        "id": "OGQEYH0nNcfF"
      },
      "source": [
        "import pandas as pd\n",
        "import numpy as np\n",
        "import jdc"
      ],
      "execution_count": 2,
      "outputs": []
    },
    {
      "cell_type": "code",
      "metadata": {
        "id": "SpPv-fxkyO-J"
      },
      "source": [
        "# class State():\n",
        "#   def __init__(self, reward):\n",
        "#     # reward\n",
        "#     self.reward = reward\n",
        "#     # A state only has a reward variable. Other information should be in MDP class \n",
        "#     # which calls a state from another state by passing in values such as action and probability\n",
        "\n"
      ],
      "execution_count": null,
      "outputs": []
    },
    {
      "cell_type": "code",
      "metadata": {
        "id": "an-WX01o6c4y"
      },
      "source": [
        "class MDP():\n",
        "  def __init__(self, num_state, num_actions, filename, gamma):\n",
        "    self.num_states = num_state\n",
        "    self.num_actions = num_actions\n",
        "    self.filename = filename\n",
        "    self.gamma = gamma\n",
        "\n",
        "    self.stateDic = {}\n",
        "\n",
        "    self.read_from_file()"
      ],
      "execution_count": 60,
      "outputs": []
    },
    {
      "cell_type": "code",
      "metadata": {
        "id": "OXTmZowvNZMq"
      },
      "source": [
        "%%add_to MDP\n",
        "def read_from_file(self):\n",
        "  file = open(self.filename, \"r\")\n",
        "  data_obj = []\n",
        "  for line in file:\n",
        "    data_obj.append(line)\n",
        "\n",
        "  file.close()\n",
        "\n",
        "  # stateDic = {\n",
        "  #     \"S1\": {\n",
        "  #         \"reward\": 5,\n",
        "  #         \"a1\": [\n",
        "  #                {\"S1\": 0.509},\n",
        "  #                {\"S2\": 0.491}\n",
        "  #               ],\n",
        "  #         \"a2\": [\n",
        "  #                {\"S1\": 0.31},\n",
        "  #                {\"S3\": 0.69}\n",
        "  #               ]\n",
        "  #     },\n",
        "  #     \"S2\": {\n",
        "  #         \"reward\": 10,\n",
        "  #         \"a1\": [\n",
        "  #                {\"S1\": 0.509},\n",
        "  #                {\"S2\": 0.491}\n",
        "  #               ],\n",
        "  #         \"a2\": [\n",
        "  #                {\"S1\": 0.31},\n",
        "  #                {\"S3\": 0.69}\n",
        "  #               ]\n",
        "  #     }\n",
        "      \n",
        "  # }\n",
        "  # print(stateDic[\"s2\"])\n",
        "  # print()\n",
        "  # print(stateDic[\"s1\"][\"a1\"])\n",
        "\n",
        "  tmpDic = {}\n",
        "  for st in data_obj:\n",
        "    for action in range(self.num_actions):\n",
        "      obj = st.split(\" \")\n",
        "      # print(obj)\n",
        "      tmpDic = {\"reward\": obj[1],\n",
        "                \"a\"+str(obj[0]): \"jv\"\n",
        "              }\n",
        "    \n",
        "  print(tmpDic)\n",
        "  \n",
        "  print(data_obj[0])\n",
        "  # print(data_obj[1])\n",
        "  # print(\"\".join(data_obj[0][5:].split(\"(\")).split(\")\"))\n"
      ],
      "execution_count": 123,
      "outputs": []
    },
    {
      "cell_type": "code",
      "metadata": {
        "id": "yKSbakoGDVub",
        "colab": {
          "base_uri": "https://localhost:8080/"
        },
        "outputId": "25315994-dfa0-4835-faf3-bcfa183909ed"
      },
      "source": [
        "n_state = 3\n",
        "n_actions = 2\n",
        "filename = 'test1.in'\n",
        "discount = 0.5\n",
        "mdp = MDP(n_state, n_actions, filename, discount)"
      ],
      "execution_count": 124,
      "outputs": [
        {
          "output_type": "stream",
          "text": [
            "{'reward': '-5', 'as3': 'jv'}\n",
            "s1 5 (a1 s1 0.509) (a1 s2 0.491) (a2 s1 0.31) (a2 s3 0.69)\n",
            "\n"
          ],
          "name": "stdout"
        }
      ]
    },
    {
      "cell_type": "code",
      "metadata": {
        "id": "WX_mH0QcG2tZ"
      },
      "source": [
        ""
      ],
      "execution_count": 106,
      "outputs": []
    }
  ]
}