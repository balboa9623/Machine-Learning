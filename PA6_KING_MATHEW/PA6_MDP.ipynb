{
  "nbformat": 4,
  "nbformat_minor": 0,
  "metadata": {
    "colab": {
      "name": "PA6_MDP.ipynb",
      "provenance": [],
      "collapsed_sections": []
    },
    "kernelspec": {
      "name": "python3",
      "display_name": "Python 3"
    },
    "accelerator": "GPU"
  },
  "cells": [
    {
      "cell_type": "code",
      "metadata": {
        "colab": {
          "base_uri": "https://localhost:8080/"
        },
        "id": "ZTzt3E00LwN5",
        "outputId": "73729b2e-97d8-445e-adb5-7e62e197854f"
      },
      "source": [
        "!pip install jdc"
      ],
      "execution_count": 1,
      "outputs": [
        {
          "output_type": "stream",
          "text": [
            "Collecting jdc\n",
            "  Downloading https://files.pythonhosted.org/packages/5a/cb/9afea749985eef20f3160e8826a531c7502e40c35a038dfe49b67726e9a0/jdc-0.0.9-py2.py3-none-any.whl\n",
            "Installing collected packages: jdc\n",
            "Successfully installed jdc-0.0.9\n"
          ],
          "name": "stdout"
        }
      ]
    },
    {
      "cell_type": "code",
      "metadata": {
        "id": "OGQEYH0nNcfF"
      },
      "source": [
        "import pandas as pd\n",
        "import numpy as np\n",
        "import jdc"
      ],
      "execution_count": 2,
      "outputs": []
    },
    {
      "cell_type": "code",
      "metadata": {
        "id": "SpPv-fxkyO-J"
      },
      "source": [
        "# class State():\n",
        "#   def __init__(self, reward):\n",
        "#     # reward\n",
        "#     self.reward = reward\n",
        "#     # A state only has a reward variable. Other information should be in MDP class \n",
        "#     # which calls a state from another state by passing in values such as action and probability\n",
        "\n"
      ],
      "execution_count": null,
      "outputs": []
    },
    {
      "cell_type": "code",
      "metadata": {
        "id": "an-WX01o6c4y"
      },
      "source": [
        "class MDP():\n",
        "  def __init__(self, num_state, num_actions, filename, gamma):\n",
        "    self.num_states = num_state\n",
        "    self.num_actions = num_actions\n",
        "    self.filename = filename\n",
        "    self.gamma = gamma\n",
        "\n",
        "    self.reward = [[]]*num_state"
      ],
      "execution_count": 18,
      "outputs": []
    },
    {
      "cell_type": "code",
      "metadata": {
        "id": "OXTmZowvNZMq"
      },
      "source": [
        "%%add_to MDP\n",
        "def read_from_file(self):\n",
        "  file = open(self.filename, \"r\")\n",
        "  data_obj = []\n",
        "  for line in file:\n",
        "    data_obj.append(line)\n",
        "\n",
        "  file.close()\n",
        "\n",
        "  for i, st in enumerate(data_obj):\n",
        "    self.reward[i] = st.split(\" \")[1]\n",
        "\n",
        "  print(self.reward)\n"
      ],
      "execution_count": 19,
      "outputs": []
    },
    {
      "cell_type": "code",
      "metadata": {
        "id": "yKSbakoGDVub",
        "colab": {
          "base_uri": "https://localhost:8080/"
        },
        "outputId": "38777733-d8da-4dc8-df2a-f0fc6a1ed8b9"
      },
      "source": [
        "mdp = MDP(3, 2, 'test1.in', 0.5)\n",
        "mdp.read_from_file()"
      ],
      "execution_count": 20,
      "outputs": [
        {
          "output_type": "stream",
          "text": [
            "['5', '10', '-5']\n"
          ],
          "name": "stdout"
        }
      ]
    },
    {
      "cell_type": "code",
      "metadata": {
        "id": "WX_mH0QcG2tZ"
      },
      "source": [
        ""
      ],
      "execution_count": null,
      "outputs": []
    }
  ]
}