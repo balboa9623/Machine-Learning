{
  "nbformat": 4,
  "nbformat_minor": 0,
  "metadata": {
    "colab": {
      "name": "PA6_MDP.ipynb",
      "provenance": [],
      "collapsed_sections": []
    },
    "kernelspec": {
      "name": "python3",
      "display_name": "Python 3"
    },
    "accelerator": "GPU"
  },
  "cells": [
    {
      "cell_type": "code",
      "metadata": {
        "colab": {
          "base_uri": "https://localhost:8080/"
        },
        "id": "ZTzt3E00LwN5",
        "outputId": "66a5b0e6-262d-4655-90bb-893ae20b38c4"
      },
      "source": [
        "!pip install jdc"
      ],
      "execution_count": 82,
      "outputs": [
        {
          "output_type": "stream",
          "text": [
            "Requirement already satisfied: jdc in /usr/local/lib/python3.6/dist-packages (0.0.9)\n"
          ],
          "name": "stdout"
        }
      ]
    },
    {
      "cell_type": "code",
      "metadata": {
        "id": "OGQEYH0nNcfF"
      },
      "source": [
        "import pandas as pd\n",
        "import numpy as np\n",
        "import jdc"
      ],
      "execution_count": 83,
      "outputs": []
    },
    {
      "cell_type": "code",
      "metadata": {
        "id": "an-WX01o6c4y"
      },
      "source": [
        "class MDP():\n",
        "  def __init__(self, num_state, num_actions, filename, gamma):\n",
        "    self.num_states = num_state\n",
        "    self.num_actions = num_actions\n",
        "    self.filename = filename\n",
        "    self.gamma = gamma\n",
        "\n",
        "    self.stateDic = {}\n",
        "\n",
        "    self.read_from_file()"
      ],
      "execution_count": 84,
      "outputs": []
    },
    {
      "cell_type": "code",
      "metadata": {
        "id": "OXTmZowvNZMq"
      },
      "source": [
        "%%add_to MDP\n",
        "def read_from_file(self):\n",
        "  file = open(self.filename, \"r\")\n",
        "\n",
        "  data_obj = []\n",
        "  \n",
        "  for line in file:\n",
        "    data_obj.append(line)\n",
        "\n",
        "  file.close()\n",
        "\n",
        "  for i, obj in enumerate(data_obj):\n",
        "    obj = obj.rstrip()\n",
        "    obj = obj.split(\"(\")\n",
        "    obj = \"\".join(obj)\n",
        "    obj = obj.split(\")\")\n",
        "    obj = \"\".join(obj)\n",
        "    obj = obj.split(\" \")\n",
        "    data_obj[i] = obj\n",
        "\n",
        "  # print(data_obj)\n",
        "\n",
        "  for obj in data_obj:\n",
        "    action = {}\n",
        "    for a in range(self.num_actions):\n",
        "      i = a+1\n",
        "      action['a'+str(i)] = []\n",
        "    self.stateDic[obj[0]] = {\"reward\":int(obj[1]), \"actions\": action}\n",
        "\n",
        "  # self.stateDic[\"s1\"][\"actions\"][\"a1\"].append({\"s1\": 0.509})\n",
        "  # self.stateDic[\"s1\"][\"actions\"][\"a1\"].append({\"s2\": 0.491})\n",
        "\n",
        "  # print(data_obj[2])\n",
        "\n",
        "  for obj in data_obj:\n",
        "    idx = 3\n",
        "    for action in obj[2::3]:\n",
        "      self.stateDic[obj[0]][\"actions\"][action].append({obj[idx]: float(obj[idx+1])})\n",
        "      idx += 3\n",
        "  \n",
        "  print(self.stateDic[\"s2\"])"
      ],
      "execution_count": 170,
      "outputs": []
    },
    {
      "cell_type": "code",
      "metadata": {
        "id": "yKSbakoGDVub",
        "colab": {
          "base_uri": "https://localhost:8080/"
        },
        "outputId": "44bbef47-3d93-4f3a-fac0-3f4db8fd8589"
      },
      "source": [
        "n_state = 3\n",
        "n_actions = 2\n",
        "filename = 'test1.in'\n",
        "discount = 0.5\n",
        "mdp = MDP(n_state, n_actions, filename, discount)"
      ],
      "execution_count": 171,
      "outputs": [
        {
          "output_type": "stream",
          "text": [
            "{'reward': 10, 'actions': {'a1': [{'s1': 0.4}, {'s2': 0.3}, {'s3': 0.3}], 'a2': [{'s2': 0.5}, {'s3': 0.5}]}}\n"
          ],
          "name": "stdout"
        }
      ]
    },
    {
      "cell_type": "code",
      "metadata": {
        "id": "IJ_nBdHohnvc"
      },
      "source": [
        ""
      ],
      "execution_count": null,
      "outputs": []
    }
  ]
}