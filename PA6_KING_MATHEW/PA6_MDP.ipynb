{
  "nbformat": 4,
  "nbformat_minor": 0,
  "metadata": {
    "colab": {
      "name": "PA6_MDP.ipynb",
      "provenance": [],
      "collapsed_sections": []
    },
    "kernelspec": {
      "name": "python3",
      "display_name": "Python 3"
    },
    "accelerator": "GPU"
  },
  "cells": [
    {
      "cell_type": "code",
      "metadata": {
        "colab": {
          "base_uri": "https://localhost:8080/"
        },
        "id": "ZTzt3E00LwN5",
        "outputId": "3e8654ae-3e63-47a2-9e00-a4f6d2b9b9c4"
      },
      "source": [
        "!pip install jdc"
      ],
      "execution_count": 384,
      "outputs": [
        {
          "output_type": "stream",
          "text": [
            "Requirement already satisfied: jdc in /usr/local/lib/python3.6/dist-packages (0.0.9)\n"
          ],
          "name": "stdout"
        }
      ]
    },
    {
      "cell_type": "code",
      "metadata": {
        "id": "OGQEYH0nNcfF"
      },
      "source": [
        "import pandas as pd\n",
        "import numpy as np\n",
        "import jdc"
      ],
      "execution_count": 385,
      "outputs": []
    },
    {
      "cell_type": "code",
      "metadata": {
        "id": "an-WX01o6c4y"
      },
      "source": [
        "class MDP():\n",
        "  def __init__(self, num_state, num_actions, filename, gamma):\n",
        "    self.num_states = num_state\n",
        "    self.num_actions = num_actions\n",
        "    self.filename = filename\n",
        "    self.gamma = gamma\n",
        "\n",
        "    self.stateDic = {}\n",
        "    self.rewardArr = [[] for i in range(self.num_states)]\n",
        "    self.rewardActionArr = [[] for i in range(self.num_states)]\n",
        "    \n",
        "\n",
        "    self.read_from_file()"
      ],
      "execution_count": 386,
      "outputs": []
    },
    {
      "cell_type": "code",
      "metadata": {
        "id": "OXTmZowvNZMq"
      },
      "source": [
        "%%add_to MDP\n",
        "def read_from_file(self):\n",
        "  file = open(self.filename, \"r\")\n",
        "\n",
        "  data_obj = []\n",
        "  \n",
        "  for line in file:\n",
        "    data_obj.append(line)\n",
        "\n",
        "  file.close()\n",
        "\n",
        "  #print(data_obj)\n",
        "\n",
        "  for i, obj in enumerate(data_obj):\n",
        "    obj = obj.rstrip()\n",
        "    obj = obj.split(\"(\")\n",
        "    obj = \"\".join(obj)\n",
        "    obj = obj.split(\")\")\n",
        "    obj = \"\".join(obj)\n",
        "    obj = obj.split(\" \")\n",
        "    data_obj[i] = obj\n",
        "\n",
        "  for x, obj in enumerate(data_obj):\n",
        "    action = {}\n",
        "    for a in range(self.num_actions):\n",
        "      i = a+1\n",
        "      action['a'+str(i)] = []\n",
        "    self.stateDic[obj[0]] = {\"reward\":int(obj[1]), \"actions\": action}\n",
        "    self.rewardArr[x].append(int(obj[1]))\n",
        "    \n",
        "\n",
        "  # self.stateDic[\"s1\"][\"actions\"][\"a1\"].append({\"s1\": 0.509})\n",
        "  # self.stateDic[\"s1\"][\"actions\"][\"a1\"].append({\"s2\": 0.491})\n",
        "\n",
        "  # print(data_obj[2])\n",
        "\n",
        "  for obj in data_obj:\n",
        "    idx = 3\n",
        "    for action in obj[2::3]:\n",
        "      self.stateDic[obj[0]][\"actions\"][action].append({obj[idx]: float(obj[idx+1])})\n",
        "      idx += 3\n",
        "  \n",
        "  #print(self.stateDic)\n",
        "  #print(self.rewardArr)"
      ],
      "execution_count": 387,
      "outputs": []
    },
    {
      "cell_type": "code",
      "metadata": {
        "id": "qlVLzHKbcq5m"
      },
      "source": [
        "%%add_to MDP\n",
        "def Bellman_equation(self):\n",
        "  \"\"\"\n",
        "  E.g., [a1] ==> J^2(s1) = (r(s1) = 5) + ((gamma = 0.8)*( ((Prob(a1, s1) = 0.509) * J^1(s1) = 5)  +  ((Prob(a1, s2) = 0.491) * J^1(s2) = 10))\n",
        "        [a2] ==> J^2(s1) = (r(s1) = 5) + ((gamma = 0.8)*( ((Prob(a1, s1) = 0.31) * J^1(s1) = 5)  +  ((Prob(a1, s3) = 0.69) * J^1(s3) = -5))\n",
        "        J^2(s1) = max(a1, a2)\n",
        "\n",
        "  \"\"\"\n",
        "\n",
        "  # states = {\"s1\": 0, \"s2\": 1, \"s3\": 2} # 0: \"s1\", 1: \"s2\", 2: \"s3\"}\n",
        "  states = {}\n",
        "  for i in range(self.num_states):\n",
        "    states[\"s\"+str(i+1)] = i\n",
        "  #print(states) \n",
        "\n",
        "  for k in range(1,21): # 20):\n",
        "    # print(\"k = \", k)\n",
        "    for state, st_idx in states.items():\n",
        "      reward = self.stateDic[state][\"reward\"]\n",
        "      # print(state)\n",
        "      # print(reward)\n",
        "      tmp_j_si = []\n",
        "      rew_idx = 0\n",
        "      highest_reward = -999\n",
        "      best_action = \"\"\n",
        "      for action in self.stateDic[state][\"actions\"]:\n",
        "        #print(action)\n",
        "        num_state_trans = len(self.stateDic[state][\"actions\"][action])\n",
        "        j_sum = 0\n",
        "        for trans_idx in range(num_state_trans):\n",
        "          s_lst = list(self.stateDic[state][\"actions\"][action][trans_idx])[0] # get the states inside the action list\n",
        "          # print(\"{} -> r = {}\".format( s_lst, self.rewardArr[states[s_lst]][k-1] ) )\n",
        "\n",
        "          j_sum += ( self.stateDic[state][\"actions\"][action][trans_idx][s_lst] * self.rewardArr[states[s_lst]][k-1] )\n",
        "        j_si = reward + (self.gamma * j_sum)\n",
        "        j_si = round(j_si, 3)\n",
        "        if (j_si > highest_reward):\n",
        "          highest_reward = j_si\n",
        "          best_action = action\n",
        "        #print(best_action)\n",
        "        #print(j_si)\n",
        "        tmp_j_si.append(j_si)\n",
        "      self.rewardArr[st_idx].append(max(tmp_j_si))\n",
        "      self.rewardActionArr[st_idx].append(best_action)\n"
      ],
      "execution_count": 388,
      "outputs": []
    },
    {
      "cell_type": "code",
      "metadata": {
        "id": "yKSbakoGDVub",
        "colab": {
          "base_uri": "https://localhost:8080/"
        },
        "outputId": "16a1d59b-db3e-4962-fb67-06e3c954913e"
      },
      "source": [
        "n_state = 3\n",
        "n_actions = 2\n",
        "filename = 'test1.in'\n",
        "\n",
        "# n_state = 10 # 3\n",
        "# n_actions = 3 # 2\n",
        "# filename = 'test2.in'\n",
        "discount = 0.8\n",
        "mdp = MDP(n_state, n_actions, filename, discount)\n",
        "mdp.Bellman_equation()\n",
        "\n",
        "st = {}\n",
        "\n",
        "for i in range(mdp.num_states):\n",
        "  st[i] = \"s\"+str(i+1)\n",
        "#print(st)\n",
        "\n",
        "# for i, val in st.items():\n",
        "#   print(\"{} ==> {}\". format(val, mdp.rewardArr[i]))\n",
        "\n",
        "for i in range(0,20):\n",
        "  print(\"After iteration \" + str(i+1) + \":\", end=\" \")\n",
        "  for s in range(mdp.num_states):\n",
        "    if(s+1 == mdp.num_states):\n",
        "      print(\"(s\" + str(s+1) + \" \" + str(mdp.rewardActionArr[s][i]) + \" \" + str(mdp.rewardArr[s][i]) + \")\")\n",
        "    else:\n",
        "      print(\"(s\" + str(s+1) + \" \" + str(mdp.rewardActionArr[s][i]) + \" \" + str(mdp.rewardArr[s][i]) + \")\", end=\" \")\n",
        "\n"
      ],
      "execution_count": 389,
      "outputs": [
        {
          "output_type": "stream",
          "text": [
            "After iteration 1: (s1 a1 5) (s2 a1 10) (s3 a2 -5)\n",
            "After iteration 2: (s1 a1 10.964) (s2 a1 12.8) (s3 a2 2.2)\n",
            "After iteration 3: (s1 a1 14.492) (s2 a1 17.108) (s3 a2 4.946)\n",
            "After iteration 4: (s1 a1 17.621) (s2 a1 19.93) (s3 a2 8.268)\n",
            "After iteration 5: (s1 a1 20.004) (s2 a1 22.406) (s3 a2 10.575)\n",
            "After iteration 6: (s1 a1 21.947) (s2 a1 24.317) (s3 a2 12.54)\n",
            "After iteration 7: (s1 a1 23.489) (s2 a1 25.869) (s3 a2 14.074)\n",
            "After iteration 8: (s1 a1 24.726) (s2 a1 27.103) (s3 a2 15.314)\n",
            "After iteration 9: (s1 a1 25.714) (s2 a1 28.092) (s3 a2 16.302)\n",
            "After iteration 10: (s1 a1 26.505) (s2 a1 28.883) (s3 a2 17.093)\n",
            "After iteration 11: (s1 a1 27.138) (s2 a1 29.516) (s3 a2 17.726)\n",
            "After iteration 12: (s1 a1 27.644) (s2 a1 30.022) (s3 a2 18.232)\n",
            "After iteration 13: (s1 a1 28.049) (s2 a1 30.427) (s3 a2 18.637)\n",
            "After iteration 14: (s1 a1 28.373) (s2 a1 30.751) (s3 a2 18.961)\n",
            "After iteration 15: (s1 a1 28.632) (s2 a1 31.01) (s3 a2 19.22)\n",
            "After iteration 16: (s1 a1 28.84) (s2 a1 31.217) (s3 a2 19.428)\n",
            "After iteration 17: (s1 a1 29.006) (s2 a1 31.384) (s3 a2 19.593)\n",
            "After iteration 18: (s1 a1 29.139) (s2 a1 31.516) (s3 a2 19.727)\n",
            "After iteration 19: (s1 a1 29.245) (s2 a1 31.623) (s3 a2 19.832)\n",
            "After iteration 20: (s1 a1 29.33) (s2 a1 31.708) (s3 a2 19.918)\n"
          ],
          "name": "stdout"
        }
      ]
    },
    {
      "cell_type": "code",
      "metadata": {
        "id": "7rx-O04HOg2h"
      },
      "source": [
        ""
      ],
      "execution_count": 389,
      "outputs": []
    },
    {
      "cell_type": "code",
      "metadata": {
        "id": "IJ_nBdHohnvc"
      },
      "source": [
        ""
      ],
      "execution_count": 389,
      "outputs": []
    }
  ]
}