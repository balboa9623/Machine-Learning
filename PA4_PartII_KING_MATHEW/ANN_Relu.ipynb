{
  "nbformat": 4,
  "nbformat_minor": 0,
  "metadata": {
    "kernelspec": {
      "display_name": "Python 3",
      "language": "python",
      "name": "python3"
    },
    "language_info": {
      "codemirror_mode": {
        "name": "ipython",
        "version": 3
      },
      "file_extension": ".py",
      "mimetype": "text/x-python",
      "name": "python",
      "nbconvert_exporter": "python",
      "pygments_lexer": "ipython3",
      "version": "3.8.3"
    },
    "colab": {
      "name": "ANN-Relu.ipynb",
      "provenance": [],
      "toc_visible": true
    }
  },
  "cells": [
    {
      "cell_type": "markdown",
      "metadata": {
        "id": "lhMr0mwjSHJj"
      },
      "source": [
        "## 1 - Packages ##\n",
        "\n",
        "First, you need to import all the packages that you will need during this assignment. \n",
        "- [numpy](www.numpy.org) is the fundamental package for scientific computing with Python.\n",
        "- [matplotlib](http://matplotlib.org) is a famous library to plot graphs in Python.\n",
        "- [jdc](https://alexhagen.github.io/jdc/) : Jupyter magic that allows defining classes over multiple jupyter notebook cells.\n",
        "- plot: plot_decision_boundary is a utility function for plotting the decision boundary"
      ]
    },
    {
      "cell_type": "code",
      "metadata": {
        "id": "ssSUst0dSHJl",
        "outputId": "a41ad10f-3a15-42c1-f99d-cc13d8022b86",
        "colab": {
          "base_uri": "https://localhost:8080/",
          "height": 34
        }
      },
      "source": [
        "!pip install jdc\n",
        "import numpy as np\n",
        "import matplotlib.pyplot as plt\n",
        "import jdc\n",
        "from plot import plot_decision_boundary"
      ],
      "execution_count": 166,
      "outputs": [
        {
          "output_type": "stream",
          "text": [
            "Requirement already satisfied: jdc in /usr/local/lib/python3.6/dist-packages (0.0.9)\n"
          ],
          "name": "stdout"
        }
      ]
    },
    {
      "cell_type": "markdown",
      "metadata": {
        "id": "q0978hQsSHJs"
      },
      "source": [
        "## 2 - Help Functions ##\n",
        "\n",
        "Implement the helper function of sigmoid: $sigmoid(Z) = \\frac{1}{1 + e^{-Z}}$"
      ]
    },
    {
      "cell_type": "code",
      "metadata": {
        "id": "abB4OfcxSHJu"
      },
      "source": [
        "def sigmoid(x):\n",
        "    \"\"\"\n",
        "    Compute the sigmoid of x\n",
        "\n",
        "    Arguments:\n",
        "    x -- A scalar or a matrix.\n",
        "\n",
        "    Return:\n",
        "    s -- sigmoid(x)\n",
        "    \"\"\"\n",
        "    ## YOUR CODE STARTS HERE ### \n",
        "    s = 1.0/(1+np.exp(-x))\n",
        "    ### END CODE HERE ###\n",
        "    \n",
        "    return s"
      ],
      "execution_count": 167,
      "outputs": []
    },
    {
      "cell_type": "markdown",
      "metadata": {
        "id": "pYr4rdPwSHJz"
      },
      "source": [
        "## 3 The Neural Network Class ##\n",
        "\n",
        "You will implement a two-layer nerual network"
      ]
    },
    {
      "cell_type": "code",
      "metadata": {
        "id": "asPv3-UhSHJ0"
      },
      "source": [
        "class My_First_Awesome_NN():\n",
        "    def __init__(self, n_x, n_h, n_y = 1, learning_rate = 0.1, eta = 0):\n",
        "        \"\"\"\n",
        "        Argument:\n",
        "        n_x -- size of the input layer\n",
        "        n_h -- size of the hidden layer\n",
        "        n_y -- size of the output layer, i.e., 1 in this assignment\n",
        "        learning_rate -- the learning rate alpha\n",
        "        eta -- used in leaky relu\n",
        "\n",
        "        Define:\n",
        "                self.W1 -- weight matrix of shape (n_h, n_x)\n",
        "                self.b1 -- bias vector of shape (n_h, 1)\n",
        "                self.W2 -- weight matrix of shape (n_y, n_h)\n",
        "                self.b2 -- bias vector of shape (n_y, 1)\n",
        "        \"\"\"\n",
        "        self.n_x = n_x\n",
        "        self.n_h = n_h\n",
        "        self.n_y = n_y\n",
        "        self.alpha = learning_rate # learning rate\n",
        "        self.eta = eta\n",
        "        \n",
        "        np.random.seed(7) # The seed will make sure your output matches mine although the initialization is random.\n",
        "        \n",
        "        ### YOUR CODE STARTS HERE ### (≈ 4 lines of code)\n",
        "        # hint (1): you can use np.random.randn to initialize self.W1 and self.W2. \n",
        "        # hint (2): In order to keep the weights small, you'd better multiply the random weights by a small number ,e.g., 0.5 \n",
        "        # hint (3): biases can be initialized to be zeros\n",
        "        self.W1 = np.random.randn(n_h, n_x)*0.01\n",
        "        self.b1 = np.zeros(shape=(n_h, 1))\n",
        "        self.W2 = np.random.randn(n_y, n_h)*0.01\n",
        "        self.b2 = np.zeros(shape=(n_y, 1))\n",
        "        ### END CODE HERE ###\n",
        "\n",
        "        assert (self.W1.shape == (n_h, n_x)), \"Matrix shape incorrect: self.W1\"\n",
        "        assert (self.b1.shape == (n_h, 1)), \"Vector shape incorrect: self.b1\"\n",
        "        assert (self.W2.shape == (n_y, n_h)), \"Matrix shape incorrect: self.W2\"\n",
        "        assert (self.b2.shape == (n_y, 1)), \"Vector shape incorrect: self.b2\"        "
      ],
      "execution_count": 168,
      "outputs": []
    },
    {
      "cell_type": "markdown",
      "metadata": {
        "id": "YeR4Np11SHJ5"
      },
      "source": [
        "### 3.1 - Forward Propagation ###\n",
        "\n",
        "Implement Forward Propagation. Compute $Z^{[1]}, A^{[1]}, Z^{[2]}$ and $A^{[2]}$\n",
        "$$Z^{[1]} =  W^{[1]} \\cdot X + b^{[1]}\\tag{1}$$ \n",
        "$$A^{[1]} =  leakyrelu(Z^{[1]})\\tag{2}$$ \n",
        "$$Z^{[2]} =  W^{[2]} \\cdot A^{[1]} + b^{[2]}\\tag{3}$$\n",
        "$$A^{[2]} =  sigmoid(Z^{[2]})\\tag{4}$$ \n",
        "\n",
        "- We will use the *** leaky relu activation function *** in the hidden layer:\n",
        "g(z) = a =  $\\begin{cases}\n",
        "      z & \\text{if } z > 0 \\\\\n",
        "      \\eta * z & \\text{otherwise}\n",
        "    \\end{cases}$  \n",
        "- if $\\eta = 0$, it becomes regular relu function"
      ]
    },
    {
      "cell_type": "code",
      "metadata": {
        "id": "54jx9qhESHJ6"
      },
      "source": [
        "%%add_to My_First_Awesome_NN\n",
        "\n",
        "def forward_propagation(self, X):\n",
        "    \"\"\"\n",
        "    Argument:\n",
        "    X -- input data of size (n_x, m)\n",
        "   \n",
        "    Returns:\n",
        "    A2 -- The sigmoid output of the second activation\n",
        "    cache -- a dictionary containing \"Z1\", \"A1\", \"Z2\" and \"A2\"\n",
        "    \"\"\"\n",
        "    # Implement Forward Propagation to calculate A2\n",
        "    ### YOUR CODE STARTS HERE ### (≈ 4 lines of code)\n",
        "    Z1 = np.dot(self.W1, X) + self.b1\n",
        "    #Remember to use leaky relu as the actiation function\n",
        "    A1 = np.where(Z1 > 0, Z1, Z1 * 0.01)\n",
        "    # Start to handle the output layer\n",
        "    Z2 = np.dot(self.W2, A1) + self.b2\n",
        "    #Remember to use sigmoid function in the output layer\n",
        "    A2 = sigmoid(Z2)\n",
        "    ### END CODE HERE ###\n",
        "    \n",
        "    \n",
        "    assert(A2.shape == (1, X.shape[1]))\n",
        "    \n",
        "    cache = {\"Z1\": Z1,\n",
        "             \"A1\": A1,\n",
        "             \"Z2\": Z2,\n",
        "             \"A2\": A2}\n",
        "    \n",
        "    return A2, cache"
      ],
      "execution_count": 169,
      "outputs": []
    },
    {
      "cell_type": "markdown",
      "metadata": {
        "id": "OcFW6im4SHKB"
      },
      "source": [
        "### 3.2 - Back Propagation ###\n",
        "\n",
        "Based on the cache obtained during forward propagation, please implement the backward propagation.\n",
        "<img src=\"images/gredient-descent.png\" style=\"width:400px;height:200px;\">\n",
        "\n",
        "- Hint:\n",
        "    - To compute $dZ^{[1]}$, you will need to compute $g^{'}(Z^{[1]})$. Since the activation function is leaky relu, \n",
        "    $g^{'}(z) =  \\begin{cases}\n",
        "      1 & \\text{if } z > 0 \\\\\n",
        "      \\eta  & \\text{otherwise}\n",
        "    \\end{cases}$  "
      ]
    },
    {
      "cell_type": "code",
      "metadata": {
        "id": "96TmDiiXSHKC"
      },
      "source": [
        "%%add_to My_First_Awesome_NN\n",
        "def backward_propagation(self, cache, X, Y):\n",
        "    \"\"\"\n",
        "    Implement the backward propagation\n",
        "    \n",
        "    Arguments:\n",
        "    cache -- a dictionary containing \"Z1\", \"A1\", \"Z2\" and \"A2\".\n",
        "    X -- input data of shape (n, m)\n",
        "    Y -- \"true\" labels vector of shape (1, m)\n",
        "    \n",
        "    Returns:\n",
        "    grads -- a python dictionary containing your gradients with respect to different parameters\n",
        "    \"\"\"\n",
        "    m = X.shape[1]\n",
        "        \n",
        "    # Retrieve also A1 and A2 from dictionary \"cache\".\n",
        "    ### YOUR CODE STARTS HERE ### (≈ 2 lines of code)\n",
        "    A1 = cache['A1']\n",
        "    Z1 = cache['Z1']\n",
        "    A2 = cache['A2']\n",
        "    ### END CODE HERE ###\n",
        "    \n",
        "    # Backward propagation: calculate dW1, db1, dW2, db2. \n",
        "    ### YOUR CODE STARTS HERE ### (≈ 6 lines of code, corresponding to 6 equations above)\n",
        "    dZ2 = A2 - Y\n",
        "    dW2 = (1.0/m) * np.dot(dZ2, A1.T)\n",
        "    db2 = (1.0/m) * np.sum(dZ2, axis=1, keepdims=True)\n",
        "    # Calculate the derivative for leaky relu based on Z values. See the hint above\n",
        "    dg_Z1 = np.where(Z1 > 0, 1, 0.01)\n",
        "    # Calculate dZ1 based on the formula given above\n",
        "    dZ1 = np.dot(self.W2.T, dZ2) * dg_Z1\n",
        "\n",
        "    \n",
        "    dW1 = (1.0/m) * np.dot(dZ1, X.T)\n",
        "    db1 = (1.0/m) * np.sum(dZ1, axis=1, keepdims=True)\n",
        "    ### END CODE HERE ###\n",
        "    \n",
        "    assert dZ2.shape == (self.n_y, m), \"Matrix shape incorrect: dZ2\"\n",
        "    assert dW2.shape == (self.n_y, self.n_h), \"Matrix shape incorrect: dW2\"\n",
        "    assert db2.shape == (self.n_y, 1), \"Vector shape incorrect: db2\"\n",
        "    assert dZ1.shape == (self.n_h, m), \"Matrix shape incorrect: dZ1\"\n",
        "    assert dW1.shape == (self.n_h, self.n_x), \"Matrix shape incorrect: dW1\"\n",
        "    assert db1.shape == (self.n_h, 1), \"Vector shape incorrect: db1\"\n",
        "    \n",
        "    grads = {\"dW1\": dW1,\n",
        "             \"db1\": db1,\n",
        "             \"dW2\": dW2,\n",
        "             \"db2\": db2}\n",
        "    \n",
        "    return grads"
      ],
      "execution_count": 170,
      "outputs": []
    },
    {
      "cell_type": "markdown",
      "metadata": {
        "id": "1HusNfxVSHKM"
      },
      "source": [
        "### 3.3 - Compute Loss ###\n",
        "The loss function:  $$L(W) = -\\frac{1}{m} (Y * \\log(A^{[2]}) + (1-Y) * \\log(1-A^{[2]}))\\tag{1}$$ \n",
        "- Hint: Here, * in the above equation is numpy.multiply(), i.e., element-wise multiplication"
      ]
    },
    {
      "cell_type": "code",
      "metadata": {
        "id": "-fL1O6qaSHKN"
      },
      "source": [
        "%%add_to My_First_Awesome_NN\n",
        "def compute_loss(self, A2, Y):\n",
        "    \"\"\"\n",
        "    Computes the cross-entropy loss\n",
        "    \n",
        "    Arguments:\n",
        "    A2 -- The sigmoid output of the second activation, of shape (1, number of examples)\n",
        "    Y -- \"true\" labels vector of shape (1, number of examples)\n",
        "    Returns:\n",
        "    loss -- cross-entropy cost\n",
        "    \"\"\"\n",
        "    \n",
        "    m = Y.shape[0] # number of example\n",
        "\n",
        "    # Compute the cross-entropy cost\n",
        "    ### YOUR CODE STARTS HERE ### (≈ 1 to 2 lines of code)\n",
        "    # You can do this in two steps or one step according to your preference\n",
        "    logprobs = np.multiply(Y, np.log(A2)) + np.multiply((1 - Y), np.log(1 - A2))\n",
        "    loss = (-1.0/m) * np.sum(logprobs)\n",
        "    ### END CODE HERE ###\n",
        "    \n",
        "    loss = np.squeeze(loss)     # makes sure cost is the dimension we expect. \n",
        "                                # E.g., turns [[17]] into 17 \n",
        "    assert(isinstance(loss, float))\n",
        "    \n",
        "    return loss"
      ],
      "execution_count": 171,
      "outputs": []
    },
    {
      "cell_type": "markdown",
      "metadata": {
        "id": "KRD-wi_DSHKX"
      },
      "source": [
        "### 3.4 - Update Weights ###\n",
        "Apply the gredient descent weight update rule here"
      ]
    },
    {
      "cell_type": "code",
      "metadata": {
        "id": "NmgDP2FVSHKY"
      },
      "source": [
        "%%add_to My_First_Awesome_NN\n",
        "\n",
        "def update_parameters(self, grads):\n",
        "    \"\"\"\n",
        "    Updates parameters using the gradient descent update rule\n",
        "    \n",
        "    Arguments:\n",
        "    \n",
        "    grads -- a python dictionary containing gradients \n",
        "    \n",
        "    \"\"\"\n",
        "    # Retrieve each gradient from the dictionary \"grads\"\n",
        "    ### YOUR CODE STARTS HERE ### (≈ 4 lines of code)\n",
        "    dW1 = grads['dW1']\n",
        "    db1 = grads['db1']\n",
        "    dW2 = grads['dW2']\n",
        "    db2 = grads['db2']\n",
        "    ## END CODE HERE ###\n",
        "    \n",
        "    # Update rule for each parameter\n",
        "    ### YOUR CODE STARTS HERE ### (≈ 4 lines of code)\n",
        "    self.W1 -= self.alpha * dW1\n",
        "    self.b1 -= self.alpha * db1\n",
        "    self.W2 -= self.alpha * dW2\n",
        "    self.b2 -= self.alpha * db2\n",
        "    ### END CODE HERE ###\n",
        "    "
      ],
      "execution_count": 172,
      "outputs": []
    },
    {
      "cell_type": "markdown",
      "metadata": {
        "id": "F7BehuauSHKb"
      },
      "source": [
        "### 3.5 - Training ###\n",
        "Implement the training process"
      ]
    },
    {
      "cell_type": "code",
      "metadata": {
        "id": "Ey8BxMfaSHKc"
      },
      "source": [
        "%%add_to My_First_Awesome_NN\n",
        "\n",
        "def fit(self, X, Y, num_epochs = 10000, print_loss=False):\n",
        "    \"\"\"\n",
        "    Arguments:\n",
        "    X -- dataset of shape (n, m)\n",
        "    Y -- labels of shape (1, m)\n",
        "    num_epochs -- Number of iterations in gradient descent iterations\n",
        "    print_loss -- if True, print the loss every 1000 iterations\n",
        "    \n",
        "    \"\"\"\n",
        "    assert(self.n_x == X.shape[0])\n",
        "    assert(self.n_y == Y.shape[0])\n",
        "    \n",
        "    losses = []\n",
        "    \n",
        "    # Loop (gradient descent)\n",
        "    for i in range(0, num_epochs):\n",
        "         \n",
        "        ### YOUR CODE STARTS HERE ### (≈ 4 lines of code)\n",
        "        # Forward propagation. Inputs: \"X\". Outputs: \"A2, cache\".\n",
        "        A2, cache = forward_propagation(self, X)\n",
        "\n",
        "        # Loss function. Inputs: \"A2, Y, parameters\". Outputs: \"loss\".\n",
        "        loss = compute_loss(self, A2, Y)\n",
        " \n",
        "        # Backpropagation. Inputs: \"cache, X, Y\". Outputs: \"grads\".\n",
        "        grads = backward_propagation(self, cache, X, Y)\n",
        " \n",
        "        # Last step: Gradient descent parameter update. Inputs: \" grads\".\n",
        "        update_parameters(self, grads)\n",
        "        \n",
        "        ### YOUR CODE ENDS HERE ###\n",
        "        \n",
        "        # Print the cost every 1000 iterations\n",
        "        if print_loss and i % 1000 == 0:\n",
        "            losses.append(loss)\n",
        "            print (\"Loss after iteration %i: %f\" %(i, loss))\n",
        "    \n",
        "    return losses\n"
      ],
      "execution_count": 173,
      "outputs": []
    },
    {
      "cell_type": "markdown",
      "metadata": {
        "id": "xL5uTwHMSHKi"
      },
      "source": [
        "### 3.6 - predict ###\n",
        "**Hint**: prediction =  $\\begin{cases}\n",
        "      1 & \\text{if } \\hat y > 0.5 \\\\\n",
        "      0 & \\text{otherwise}\n",
        "    \\end{cases}$  "
      ]
    },
    {
      "cell_type": "code",
      "metadata": {
        "id": "0gXF2pVwSHKi"
      },
      "source": [
        "%%add_to My_First_Awesome_NN\n",
        "\n",
        "def predict(self, X):\n",
        "    \"\"\"\n",
        "    Using the learned parameters, predicts a class for each example in X\n",
        "    \n",
        "    Arguments:\n",
        "    X -- input data of size (n_x, m)\n",
        "    \n",
        "    Returns\n",
        "    predictions -- vector of predictions of our model (red: 0 / blue: 1)\n",
        "    \"\"\"\n",
        "    \n",
        "    # Computes probabilities using forward propagation, and classifies to 0/1 using 0.5 as the threshold.\n",
        "   ### YOUR CODE STARTS HERE ### (≈ 2 lines of code)\n",
        "    A2, cache = forward_propagation(self, X)\n",
        "    \n",
        "    # hint: with numpy, you can apply a threshold to a vector, e.g., M > 0.5, and it will return a vector of true/false\n",
        "    predictions = np.where(A2 > 0.5, 1, 0)\n",
        "    ### END CODE HERE ###\n",
        "    \n",
        "    return predictions"
      ],
      "execution_count": 174,
      "outputs": []
    },
    {
      "cell_type": "markdown",
      "metadata": {
        "id": "dZEJgl_NSHKn"
      },
      "source": [
        "## 4. Experiments ##"
      ]
    },
    {
      "cell_type": "markdown",
      "metadata": {
        "id": "Uhc7ytNQSHKp"
      },
      "source": [
        "### 4.1 - Load and display data ###"
      ]
    },
    {
      "cell_type": "code",
      "metadata": {
        "id": "E-ESMLLeSHKp",
        "outputId": "3637eab7-e033-4bd5-ef9c-085b00ad2850",
        "colab": {
          "base_uri": "https://localhost:8080/",
          "height": 282
        }
      },
      "source": [
        "data = np.loadtxt('data.txt', delimiter=',')\n",
        "X = data[:, :-1].T\n",
        "Y = data[:, -1].T\n",
        "plt.scatter(X[0, :], X[1, :], c=Y,s=40, cmap=plt.cm.Spectral)"
      ],
      "execution_count": 175,
      "outputs": [
        {
          "output_type": "execute_result",
          "data": {
            "text/plain": [
              "<matplotlib.collections.PathCollection at 0x7f0fcb2bc668>"
            ]
          },
          "metadata": {
            "tags": []
          },
          "execution_count": 175
        },
        {
          "output_type": "display_data",
          "data": {
            "image/png": "[encoded data removed]",
            "text/plain": [
              "<Figure size 432x288 with 1 Axes>"
            ]
          },
          "metadata": {
            "tags": [],
            "needs_background": "light"
          }
        }
      ]
    },
    {
      "cell_type": "markdown",
      "metadata": {
        "id": "76ksQOC5SHKt"
      },
      "source": [
        "### 4.2 - Display the shape of X, Y, and # of training examples"
      ]
    },
    {
      "cell_type": "code",
      "metadata": {
        "id": "lvJQdbc1SHKt",
        "outputId": "6a02bb65-813e-4d34-a304-c49f207dc608",
        "colab": {
          "base_uri": "https://localhost:8080/",
          "height": 67
        }
      },
      "source": [
        "Y = Y.reshape(1, -1)\n",
        "### YOUR CODE STARTS HERE ### (≈ 3 lines of code)\n",
        "shape_X = X.shape\n",
        "shape_Y = Y.shape\n",
        "m = X.shape[1]     # training set size\n",
        "### END CODE HERE ###\n",
        "\n",
        "print ('The shape of X is: ' + str(shape_X))\n",
        "print ('The shape of Y is: ' + str(shape_Y))\n",
        "print ('There are m = %d training examples!' % (m))"
      ],
      "execution_count": 176,
      "outputs": [
        {
          "output_type": "stream",
          "text": [
            "The shape of X is: (2, 400)\n",
            "The shape of Y is: (1, 400)\n",
            "There are m = 400 training examples!\n"
          ],
          "name": "stdout"
        }
      ]
    },
    {
      "cell_type": "markdown",
      "metadata": {
        "id": "PNXWWzGwSHK0"
      },
      "source": [
        "### 4.3 - Define the model ###"
      ]
    },
    {
      "cell_type": "code",
      "metadata": {
        "id": "ImfXEwRBSHK2",
        "outputId": "e5308774-f3d6-4a6e-95e3-ddfc0bbadeb9",
        "colab": {
          "base_uri": "https://localhost:8080/",
          "height": 521
        }
      },
      "source": [
        "# Build an ANN model with a n_h-dimensional hidden layer\n",
        "### YOUR EXPERIMENT STARTS HERE ###\n",
        "num_hidden_units = 10\n",
        "alpha = 0.6\n",
        "eta = 0\n",
        "num_of_epochs = 30000\n",
        "### END CODE HERE ###\n",
        "\n",
        "model = My_First_Awesome_NN(n_x=X.shape[0], n_h = num_hidden_units, n_y = 1, learning_rate=alpha, eta = eta)\n",
        "losses = model.fit(X, Y, num_epochs = num_of_epochs, print_loss=True)"
      ],
      "execution_count": 177,
      "outputs": [
        {
          "output_type": "stream",
          "text": [
            "Loss after iteration 0: 277.255686\n",
            "Loss after iteration 1000: 181.357938\n",
            "Loss after iteration 2000: 177.784479\n",
            "Loss after iteration 3000: 177.119934\n",
            "Loss after iteration 4000: 177.452404\n",
            "Loss after iteration 5000: 177.771819\n",
            "Loss after iteration 6000: 177.427541\n",
            "Loss after iteration 7000: 177.133689\n",
            "Loss after iteration 8000: 177.710282\n",
            "Loss after iteration 9000: 177.677522\n",
            "Loss after iteration 10000: 177.658325\n",
            "Loss after iteration 11000: 177.246552\n",
            "Loss after iteration 12000: 177.572406\n",
            "Loss after iteration 13000: 177.608683\n",
            "Loss after iteration 14000: 177.209984\n",
            "Loss after iteration 15000: 177.199710\n",
            "Loss after iteration 16000: 177.555536\n",
            "Loss after iteration 17000: 177.173918\n",
            "Loss after iteration 18000: 177.543905\n",
            "Loss after iteration 19000: 177.543354\n",
            "Loss after iteration 20000: 177.181647\n",
            "Loss after iteration 21000: 177.608471\n",
            "Loss after iteration 22000: 177.138031\n",
            "Loss after iteration 23000: 177.182802\n",
            "Loss after iteration 24000: 177.216875\n",
            "Loss after iteration 25000: 177.620325\n",
            "Loss after iteration 26000: 177.460758\n",
            "Loss after iteration 27000: 177.093330\n",
            "Loss after iteration 28000: 177.609071\n",
            "Loss after iteration 29000: 177.660235\n"
          ],
          "name": "stdout"
        }
      ]
    },
    {
      "cell_type": "code",
      "metadata": {
        "id": "1FcHP_ocSHK7",
        "outputId": "6ad07821-1d67-4214-f8d9-0aacd65536d7",
        "colab": {
          "base_uri": "https://localhost:8080/",
          "height": 312
        }
      },
      "source": [
        "# Plot the decision boundary\n",
        "plot_decision_boundary(lambda x: model.predict(x.T), X, Y)\n",
        "plt.title(\"Decision Boundary for hidden layer size \" + str(num_hidden_units))"
      ],
      "execution_count": 178,
      "outputs": [
        {
          "output_type": "execute_result",
          "data": {
            "text/plain": [
              "Text(0.5, 1.0, 'Decision Boundary for hidden layer size 10')"
            ]
          },
          "metadata": {
            "tags": []
          },
          "execution_count": 178
        },
        {
          "output_type": "display_data",
          "data": {
            "image/png": "[encoded data removed]",
            "text/plain": [
              "<Figure size 432x288 with 1 Axes>"
            ]
          },
          "metadata": {
            "tags": [],
            "needs_background": "light"
          }
        }
      ]
    },
    {
      "cell_type": "code",
      "metadata": {
        "id": "05cq5z-mSHLC",
        "outputId": "d393652a-d76e-4423-e8dc-6f1bc68e0094",
        "colab": {
          "base_uri": "https://localhost:8080/",
          "height": 295
        }
      },
      "source": [
        "#plot learning curve\n",
        "losses = np.squeeze(losses)\n",
        "plt.plot(losses)\n",
        "plt.ylabel('loss')\n",
        "plt.xlabel('epochs (per hundreds)')\n",
        "plt.title(\"Learning rate =\" + str(alpha))\n",
        "plt.show()"
      ],
      "execution_count": 179,
      "outputs": [
        {
          "output_type": "display_data",
          "data": {
            "image/png": "[encoded data removed]",
            "text/plain": [
              "<Figure size 432x288 with 1 Axes>"
            ]
          },
          "metadata": {
            "tags": [],
            "needs_background": "light"
          }
        }
      ]
    },
    {
      "cell_type": "code",
      "metadata": {
        "id": "FtZuOR4ISHLF",
        "outputId": "2706115f-2ad7-44cb-e86b-192e3654dd47",
        "colab": {
          "base_uri": "https://localhost:8080/",
          "height": 34
        }
      },
      "source": [
        "# Print accuracy\n",
        "predictions = model.predict(X)\n",
        "print ('Accuracy: %d' % float((np.dot(Y,predictions.T) + np.dot(1-Y,1-predictions.T))/float(Y.size)*100) + '%')"
      ],
      "execution_count": 180,
      "outputs": [
        {
          "output_type": "stream",
          "text": [
            "Accuracy: 76%\n"
          ],
          "name": "stdout"
        }
      ]
    },
    {
      "cell_type": "code",
      "metadata": {
        "id": "rqtQr805SHLL"
      },
      "source": [
        ""
      ],
      "execution_count": 180,
      "outputs": []
    }
  ]
}