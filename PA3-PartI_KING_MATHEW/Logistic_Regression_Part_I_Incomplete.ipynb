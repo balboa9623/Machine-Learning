{
  "nbformat": 4,
  "nbformat_minor": 0,
  "metadata": {
    "kernelspec": {
      "display_name": "Python 3",
      "language": "python",
      "name": "python3"
    },
    "language_info": {
      "codemirror_mode": {
        "name": "ipython",
        "version": 3
      },
      "file_extension": ".py",
      "mimetype": "text/x-python",
      "name": "python",
      "nbconvert_exporter": "python",
      "pygments_lexer": "ipython3",
      "version": "3.8.3"
    },
    "colab": {
      "name": "Logistic Regression-Part-I-Incomplete.ipynb",
      "provenance": [],
      "collapsed_sections": []
    },
    "accelerator": "GPU"
  },
  "cells": [
    {
      "cell_type": "markdown",
      "metadata": {
        "id": "pBK3F0fYOAz3"
      },
      "source": [
        "## 1 - Packages ##\n",
        "\n",
        "First, you need to import all the packages that you will need during this assignment. \n",
        "- [numpy](www.numpy.org) is the fundamental package for scientific computing with Python.\n",
        "- [pandas](pandas.pydata.org/) is an important package for Python data analysis.\n",
        "- [matplotlib](http://matplotlib.org) is a famous library to plot graphs in Python.\n",
        "- [jdc](https://alexhagen.github.io/jdc/) : Jupyter magic that allows defining classes over multiple jupyter notebook cells."
      ]
    },
    {
      "cell_type": "code",
      "metadata": {
        "id": "jv4S1lOoOAz4",
        "outputId": "2a5f88a5-ee3d-4be0-8c05-1a8fbf0caa63",
        "colab": {
          "base_uri": "https://localhost:8080/"
        }
      },
      "source": [
        "!pip install jdc\n",
        "import numpy as np\n",
        "import pandas as pd\n",
        "import jdc\n",
        "import matplotlib.pyplot as plt\n",
        "from plotutil import plotData"
      ],
      "execution_count": 1,
      "outputs": [
        {
          "output_type": "stream",
          "text": [
            "Requirement already satisfied: jdc in /usr/local/lib/python3.6/dist-packages (0.0.9)\n"
          ],
          "name": "stdout"
        }
      ]
    },
    {
      "cell_type": "markdown",
      "metadata": {
        "id": "OGmsfw77OAz8"
      },
      "source": [
        "## 2 - Problem Statement ##\n",
        "\n",
        "    - In Section 2.1, implement the helper function sigmoid \n",
        "    - In Section 2.2, implement the helper function normalize \n",
        "            (Attention: when you call it, DON'T use self.normalize becuase it is not a part of the LogisticRegression class)\n",
        "    - In Section 2.3, define the LogisticRegression class"
      ]
    },
    {
      "cell_type": "markdown",
      "metadata": {
        "id": "FUAEfNrkOAz8"
      },
      "source": [
        "### 2.1 - Sigmoid Function ###\n",
        "\n",
        "Define a helper function 1: $sigmoid(Z) = \\frac{1}{1 + e^{-Z}}$"
      ]
    },
    {
      "cell_type": "code",
      "metadata": {
        "id": "rgWD2k5OOAz9"
      },
      "source": [
        "def sigmoid(Z):\n",
        "    \"\"\"\n",
        "    Compute the sigmoid of Z\n",
        "\n",
        "    Arguments:\n",
        "    Z -- A scalar or numpy array of any size.\n",
        "\n",
        "    Return:\n",
        "    s -- sigmoid(Z)\n",
        "    \"\"\"\n",
        "    \n",
        "    ### START CODE HERE ### (≈ 1 line of code)\n",
        "    s = 1.0/(1+np.exp(-Z))\n",
        "    ### END CODE HERE ###\n",
        "    \n",
        "    return s"
      ],
      "execution_count": 2,
      "outputs": []
    },
    {
      "cell_type": "markdown",
      "metadata": {
        "id": "V5SzDmUTOA0A"
      },
      "source": [
        "### 2.2 - Feature Scaling ###\n",
        "Define helper function 2 -- features normalization:\n",
        "$ \\frac{x_{i} - mean}{\\sigma}$, where $\\sigma$ is the standard deviation"
      ]
    },
    {
      "cell_type": "code",
      "metadata": {
        "id": "GocEM5_sOA0A"
      },
      "source": [
        "def normalize(matrix):\n",
        "    '''\n",
        "    matrix: the matrix that needs to be normalized. Note that each column represents a training example. \n",
        "         The number of columns is the the number of training examples\n",
        "    '''\n",
        "    # Calculate mean for each feature\n",
        "    # Pay attention to the value of axis = ?\n",
        "    # set keepdims=True to avoid rank-1 array\n",
        "    ### START YOUR CODE HERE ### \n",
        "    # calculate mean (1 line of code)\n",
        "    mean = np.mean(matrix, axis=1, keepdims=True)\n",
        "    # calculate standard deviation (1 line of code)\n",
        "    std = np.std(matrix, axis=1, keepdims=True)\n",
        "    # normalize the matrix based on mean and std\n",
        "    matrix = (matrix - mean) / std\n",
        "    ### YOUR CODE ENDS ###\n",
        "\n",
        "    return matrix"
      ],
      "execution_count": 3,
      "outputs": []
    },
    {
      "cell_type": "markdown",
      "metadata": {
        "id": "VMW3pzAtOA0D"
      },
      "source": [
        "### 2.3 - Logistic Regress Class ###\n",
        "You will create a neural network class - LogisticRegression:\n",
        "    - initialize parameters, such as weights, learning rate, etc.\n",
        "    - implement the gredient descent algorithm\n",
        "    - implement the predict function to make predictions for new data sets\n",
        "    - implement the normalization function"
      ]
    },
    {
      "cell_type": "code",
      "metadata": {
        "id": "Z5HCIUQYOA0E"
      },
      "source": [
        "class LogisticRegression():\n",
        "    def __init__(self, num_of_features=1, learning_rate=0.1):\n",
        "        \"\"\"\n",
        "        This function creates a vector of zeros of shape (num_of_features, 1) for W and initializes w_0 to 0.\n",
        "\n",
        "        Argument:\n",
        "        num_of_features -- size of the W vector, i.e., the number of features, excluding the bias\n",
        "\n",
        "        Returns:\n",
        "        W -- initialized vector of shape (num_of_features, 1)\n",
        "        w_0 -- initialized scalar (corresponds to the bias)\n",
        "        \"\"\"\n",
        "        # n is the number of features\n",
        "        self.n = num_of_features\n",
        "        # alpha is the learning rate\n",
        "        self.alpha = learning_rate\n",
        "        \n",
        "        ### START YOUR CODE HERE ### \n",
        "        #initialize self.W and self.w_0 to be 0's\n",
        "        self.W = np.zeros(shape=(self.n, 1))\n",
        "        self.w_0 = 0\n",
        "        ### YOUR CODE ENDS ###\n",
        "        assert(self.W.shape == (self.n, 1))\n",
        "        assert(isinstance(self.w_0, float) or isinstance(self.w_0, int))"
      ],
      "execution_count": 4,
      "outputs": []
    },
    {
      "cell_type": "markdown",
      "metadata": {
        "id": "Pd-qq2yBOA0H"
      },
      "source": [
        "## 3 - Gradient Descent ##\n",
        "\n",
        "Forward Propagation:\n",
        "- You get X with its shape as (n, m)\n",
        "- You compute  $$h_{W}(X) = a = \\sigma(w^T X + w_{0}) = \\frac{1}{1 + e^{-(w^T x + w_{0})}}\\tag{1}$$\n",
        "- You calculate the loss function:  $$L(W) = \\frac{1}{m} \\sum_{i=1}^{m}- y^{(i)}  \\log(a^{(i)}) - (1-y^{(i)} )  \\log(1-a^{(i)})\\tag{2}$$\n",
        "\n",
        "Here are the two formulas you will be using: \n",
        "\n",
        "$$ dw_{j} =\\frac{\\partial L}{\\partial w_{j}} = \\frac{1}{m} \\sum_{i=1}^m (( h_{W}(x^{(i)}) -y^{(i)}) * x_{j}^{(i)})\\tag{3}$$\n",
        "$$ dw_{0} = \\frac{\\partial L}{\\partial w_{0}} = \\frac{1}{m} \\sum_{i=1}^m (h_{W}(x^{(i)}) -y^{(i)})\\tag{4}$$\n",
        "\n",
        "The weights will be updated:\n",
        "$$ w_{j} = w_{j} - {\\alpha} * dw_{j}\\tag{5}$$\n",
        " "
      ]
    },
    {
      "cell_type": "code",
      "metadata": {
        "id": "HAHD2fyKOA0H"
      },
      "source": [
        "%%add_to LogisticRegression\n",
        "def fit(self, X, Y, epochs=1000, print_loss=True):\n",
        "    \"\"\"\n",
        "    This function implements the Gradient Descent Algorithm\n",
        "    Arguments:\n",
        "    X -- training data matrix: each column is a training example. \n",
        "            The number of columns is equal to the number of training examples\n",
        "    Y -- true \"label\" vector: shape (1, m)\n",
        "    epochs --\n",
        "\n",
        "    Return:\n",
        "    params -- dictionary containing weights\n",
        "    losses -- loss values of every 100 epochs\n",
        "    grads -- dictionary containing dw and dw_0\n",
        "    \"\"\"\n",
        "    losses = []\n",
        "    # print(\"X.shape = \", X.shape)\n",
        "    # print(\"Y.shape = \", Y.shape)\n",
        "    # print(\"W.shape = \", self.W.shape)\n",
        "    # print(\"W.T.shape = \", self.W.T.shape)\n",
        "    # print()\n",
        "    \n",
        "    for i in range(epochs):\n",
        "\n",
        "      # Get the number of training examples\n",
        "      m = X.shape[1]\n",
        "\n",
        "      ### START YOUR CODE HERE ### \n",
        "      # Calculate the hypothesis outputs A (≈ 2 lines of code)\n",
        "      Z = np.dot(self.W.T, X) + self.w_0\n",
        "      A = sigmoid(Z)\n",
        "      # print('i = {}\\n'.format(i))\n",
        "      # print('A.shape = ', A.shape)\n",
        "      \n",
        "      # Calculate loss (≈ 1 line of code)\n",
        "      # loss = np.sum(np.dot(-Y, np.log(A)) - np.dot((1-Y), np.log(1-A))) * (-1/m)\n",
        "      # loss = np.sum(-Y * np.log(A) - (1-Y) * np.log(1-A)) * (-1/m)\n",
        "\n",
        "      loss = (1 / m) * np.sum(-Y * np.log(A) - (1-Y) * np.log(1-A))\n",
        "      \n",
        "      # print(\"loss = {}\".format(loss))\n",
        "      # print()\n",
        "        \n",
        "      # Calculate the gredients for W and w_0\n",
        "      # dw = np.sum((A - Y) * X)\n",
        "      # dw_0 = np.sum(A - Y)\n",
        "\n",
        "      # dw /= m\n",
        "      # dw_0 /= m\n",
        "\n",
        "      # (1 / m) * np.dot(x.T, sigmoid(net_input(theta,   x)) - y)\n",
        "      dw = (1/m) * np.sum( (A - Y) * X )\n",
        "      dw_0 = (1/m) * np.sum( A - Y )\n",
        "\n",
        "\n",
        "      # Weight updates\n",
        "      self.W -= self.alpha * dw\n",
        "      self.w_0 -= self.alpha * dw_0\n",
        "      ### YOUR CODE ENDS ###\n",
        "\n",
        "      if((i % 100) == 0):\n",
        "          losses.append(loss)\n",
        "          # Print the cost every 100 training examples\n",
        "          if print_loss:\n",
        "              print (\"Cost after iteration %i: %f\" %(i, loss))\n",
        "\n",
        "\n",
        "    params = {\n",
        "        \"W\": self.W,\n",
        "        \"w_0\": self.w_0\n",
        "    }\n",
        "\n",
        "    grads = {\n",
        "        \"dw\": dw,\n",
        "        \"dw_0\": dw_0\n",
        "    }\n",
        "\n",
        "    return params, grads, losses"
      ],
      "execution_count": 5,
      "outputs": []
    },
    {
      "cell_type": "markdown",
      "metadata": {
        "id": "yygZMLXQOA0J"
      },
      "source": [
        "### Make Predictions ###\n",
        "The predicted output is calculated as $h_{W}(X) = \\sigma(W^T * X + b)$"
      ]
    },
    {
      "cell_type": "code",
      "metadata": {
        "id": "-AL8SVxDOA0K"
      },
      "source": [
        "%%add_to LogisticRegression\n",
        "def predict(self, X):\n",
        "    '''\n",
        "    Predict the actual values using learned parameters (self.W, self.w_0)\n",
        "\n",
        "    Arguments:\n",
        "    X -- data of size (n x m)\n",
        "\n",
        "    Returns:\n",
        "    Y_prediction -- a numpy array (vector) containing all predictions for the examples in X\n",
        "    '''\n",
        "    m = X.shape[1]\n",
        "    Y_prediction = np.zeros((1,m))\n",
        "\n",
        "    # Compute the actual values\n",
        "    ### START YOUR CODE HERE ### \n",
        "    Z_prediction = np.dot(self.W.T, X) + self.w_0\n",
        "    A = sigmoid(Z_prediction)\n",
        "    \n",
        "    for i in range(A.shape[1]):\n",
        "\n",
        "        # Convert probabilities A[0,i] to actual predictions Y_prediction[0,i]\n",
        "        ### START CODE HERE ### (≈ 3 lines of code)\n",
        "\n",
        "        ## Not sure about this block. But I think the logic goes like: if the hypothesis is less than the average, that means it is going towards 0. The same for the else block, but going towards 1 ##\n",
        "        if A[0, i] <= 0.5:\n",
        "            Y_prediction[0, i] = 0\n",
        "        else:\n",
        "            Y_prediction[0, i] = 1\n",
        "        ### END CODE HERE ###\n",
        "    \n",
        "    ### YOUR CODE ENDS ###\n",
        "    assert(Y_prediction.shape == (1, m))\n",
        "    return Y_prediction"
      ],
      "execution_count": 6,
      "outputs": []
    },
    {
      "cell_type": "markdown",
      "metadata": {
        "id": "_RWJcNMQOA0N"
      },
      "source": [
        "## 4. Run the Experiments ##"
      ]
    },
    {
      "cell_type": "code",
      "metadata": {
        "id": "fqblmxRQOA0N"
      },
      "source": [
        "# GRADED FUNCTION: model\n",
        "\n",
        "def Run_Experiment(X_train, Y_train, X_test, Y_test, epochs = 2000, learning_rate = 0.5, print_loss = False):\n",
        "    \"\"\"\n",
        "    Builds the multivariate linear regression model by calling the function you've implemented previously\n",
        "    \n",
        "    Arguments:\n",
        "    X_train -- training set represented by a numpy array \n",
        "    Y_train -- training labels represented by a numpy array (vector) \n",
        "    X_test -- test set represented by a numpy array\n",
        "    Y_test -- test labels represented by a numpy array (vector)\n",
        "    epochs -- hyperparameter representing the number of iterations to optimize the parameters\n",
        "    learning_rate -- hyperparameter representing the learning rate used in the update rule of optimize()\n",
        "    print_loss -- Set to true to print the cost every 100 iterations\n",
        "    \n",
        "    Returns:\n",
        "    d -- dictionary containing information about the model.\n",
        "    \"\"\"\n",
        "    num_of_features = X_train.shape[0]\n",
        "    model = LogisticRegression(num_of_features, learning_rate)\n",
        "    \n",
        "    \n",
        "    ### START YOUR CODE HERE ###\n",
        "    # Obtain the parameters, gredients, and losses by calling a model's method (≈ 1 line of code)\n",
        "    parameters, grads, losses = model.fit(X_train, Y_train, epochs, print_loss)\n",
        "    ### YOUR CODE ENDS ###\n",
        "    \n",
        "    ### START YOUR CODE HERE ###\n",
        "    # Predict test/train set examples (≈ 2 lines of code)\n",
        "    Y_prediction_test = model.predict(X_test)\n",
        "    Y_prediction_train = model.predict(X_train)\n",
        "    ### YOUR CODE ENDS ###\n",
        "\n",
        "    # Print train/test Errors\n",
        "    print(\"train accuracy: {} %\".format(100 - np.mean(np.abs(Y_prediction_train - Y_train)) * 100))\n",
        "    print(\"test accuracy: {} %\".format(100 - np.mean(np.abs(Y_prediction_test - Y_test)) * 100))\n",
        "\n",
        "    W = parameters['W']\n",
        "    w_0 = parameters['w_0']\n",
        "    print(\"W is \" + str(W))\n",
        "    print(\"w_0 is \" + str(w_0))\n",
        "    \n",
        "    d = {\"losses\": losses,\n",
        "         \"Y_prediction_test\": Y_prediction_test, \n",
        "         \"Y_prediction_train\" : Y_prediction_train, \n",
        "         \"W\" : W, \n",
        "         \"w_0\" : w_0,\n",
        "         \"learning_rate\" : learning_rate,\n",
        "         \"epochs\": epochs}\n",
        "    \n",
        "    return d"
      ],
      "execution_count": 7,
      "outputs": []
    },
    {
      "cell_type": "markdown",
      "metadata": {
        "id": "-icgtMVEOA0P"
      },
      "source": [
        "### Load Data and Start the Learning Process ###\n",
        "You can change num_iterations and learning_rate to see the learning process"
      ]
    },
    {
      "cell_type": "code",
      "metadata": {
        "id": "kqAGsbunOA0Q",
        "outputId": "9c46641d-435c-4b21-d158-20396e9718b2",
        "colab": {
          "base_uri": "https://localhost:8080/",
          "height": 279
        }
      },
      "source": [
        "#from plotutil import plotData\n",
        "\n",
        "data = np.loadtxt('pa3-data1-train.csv', delimiter=',')\n",
        "X_train = data[:,:-1].T\n",
        "y_train = data[:,-1].T\n",
        "\n",
        "#plot data\n",
        "plotData(X_train, y_train, \"1st exam\", \"2nd exam\")\n",
        "\n",
        "data_test = np.loadtxt('pa3-data1-test.csv', delimiter=',')\n",
        "X_test = data_test[:, :-1].T\n",
        "y_test = data_test[:, -1].T"
      ],
      "execution_count": 8,
      "outputs": [
        {
          "output_type": "display_data",
          "data": {
            "image/png": "[encoded data removed]",
            "text/plain": [
              "<Figure size 432x288 with 1 Axes>"
            ]
          },
          "metadata": {
            "tags": [],
            "needs_background": "light"
          }
        }
      ]
    },
    {
      "cell_type": "code",
      "metadata": {
        "scrolled": true,
        "id": "FSIYftg3OA0S",
        "outputId": "b18d6ad9-8bd1-49aa-8281-7a8233b808c2",
        "colab": {
          "base_uri": "https://localhost:8080/",
          "height": 774
        }
      },
      "source": [
        "d = Run_Experiment(X_train, y_train, X_test, y_test, epochs = 2000, learning_rate = 0.02, print_loss = True)\n",
        "# Plot learning curve (with costs)\n",
        "losses = np.squeeze(d['losses'])\n",
        "plt.plot(losses)\n",
        "plt.ylabel('loss')\n",
        "plt.xlabel('epochs (per hundreds)')\n",
        "plt.title(\"Learning rate =\" + str(d[\"learning_rate\"]))\n",
        "plt.show()"
      ],
      "execution_count": 9,
      "outputs": [
        {
          "output_type": "stream",
          "text": [
            "Cost after iteration 0: 0.693147\n",
            "Cost after iteration 100: 7.804430\n",
            "Cost after iteration 200: 72.562718\n",
            "Cost after iteration 300: nan\n",
            "Cost after iteration 400: 2.107073\n",
            "Cost after iteration 500: 72.452509\n",
            "Cost after iteration 600: nan\n",
            "Cost after iteration 700: 2.111840\n",
            "Cost after iteration 800: 72.335461\n",
            "Cost after iteration 900: nan\n",
            "Cost after iteration 1000: 2.120028\n",
            "Cost after iteration 1100: 72.211661\n",
            "Cost after iteration 1200: nan\n",
            "Cost after iteration 1300: 2.131586\n",
            "Cost after iteration 1400: 72.081219\n",
            "Cost after iteration 1500: nan\n",
            "Cost after iteration 1600: 2.146451\n",
            "Cost after iteration 1700: 71.944267\n",
            "Cost after iteration 1800: nan\n",
            "Cost after iteration 1900: 2.164550\n",
            "train accuracy: 41.11111111111111 %\n",
            "test accuracy: 30.0 %\n",
            "W is [[-0.79684571]\n",
            " [-0.79684571]]\n",
            "w_0 is -3.0646136964912833\n"
          ],
          "name": "stdout"
        },
        {
          "output_type": "stream",
          "text": [
            "/usr/local/lib/python3.6/dist-packages/ipykernel_launcher.py:38: RuntimeWarning: divide by zero encountered in log\n",
            "/usr/local/lib/python3.6/dist-packages/ipykernel_launcher.py:38: RuntimeWarning: invalid value encountered in multiply\n"
          ],
          "name": "stderr"
        },
        {
          "output_type": "display_data",
          "data": {
            "image/png": "[encoded data removed]",
            "text/plain": [
              "<Figure size 432x288 with 1 Axes>"
            ]
          },
          "metadata": {
            "tags": [],
            "needs_background": "light"
          }
        }
      ]
    },
    {
      "cell_type": "markdown",
      "metadata": {
        "id": "Wpp-3BWCOA0U"
      },
      "source": [
        "### Plot the learning curve ###"
      ]
    },
    {
      "cell_type": "code",
      "metadata": {
        "id": "2KDY1YElOA0U",
        "outputId": "ed0fb9fb-2518-4fdb-fb98-1ba134c76d90",
        "colab": {
          "base_uri": "https://localhost:8080/",
          "height": 280
        }
      },
      "source": [
        "plotData(normalize(X_train), y_train, xlabel=\"1st exam\", ylabel=\"2nd exam\", w = d[\"W\"], b = d[\"w_0\"])"
      ],
      "execution_count": 10,
      "outputs": [
        {
          "output_type": "display_data",
          "data": {
            "image/png": "[encoded data removed]",
            "text/plain": [
              "<Figure size 432x288 with 1 Axes>"
            ]
          },
          "metadata": {
            "tags": [],
            "needs_background": "light"
          }
        }
      ]
    },
    {
      "cell_type": "code",
      "metadata": {
        "id": "GfejL7l7OA0X"
      },
      "source": [
        ""
      ],
      "execution_count": 10,
      "outputs": []
    }
  ]
}