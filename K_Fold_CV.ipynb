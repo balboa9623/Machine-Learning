{
  "nbformat": 4,
  "nbformat_minor": 0,
  "metadata": {
    "colab": {
      "name": "K-Fold CV.ipynb",
      "provenance": [],
      "collapsed_sections": []
    },
    "kernelspec": {
      "name": "python3",
      "display_name": "Python 3"
    }
  },
  "cells": [
    {
      "cell_type": "code",
      "metadata": {
        "id": "SukrGO3M1uCf"
      },
      "source": [
        "from numpy import array\n",
        "from sklearn.model_selection import KFold\n",
        "from math import sqrt"
      ],
      "execution_count": 1,
      "outputs": []
    },
    {
      "cell_type": "code",
      "metadata": {
        "id": "Ncqab-nP12jl"
      },
      "source": [
        "data = array([-0.1,0.7,1.0,1.6,2.0,2.5,3.2,3.5,4.1,4.9])"
      ],
      "execution_count": 2,
      "outputs": []
    },
    {
      "cell_type": "code",
      "metadata": {
        "id": "6MOkjUoi2IfZ"
      },
      "source": [
        "kfold = KFold(2, False, None)"
      ],
      "execution_count": 10,
      "outputs": []
    },
    {
      "cell_type": "code",
      "metadata": {
        "id": "yw06two_5cZU"
      },
      "source": [
        "def fit(attr1, attr2):\n",
        "  return sqrt((attr1-attr2) ** 2)"
      ],
      "execution_count": 11,
      "outputs": []
    },
    {
      "cell_type": "code",
      "metadata": {
        "id": "SyBYJbWE2a-x",
        "outputId": "dc60c334-8c39-4fb8-98d6-dfe099e3fee8",
        "colab": {
          "base_uri": "https://localhost:8080/"
        }
      },
      "source": [
        "for train, test in kfold.split(data):\n",
        "  print('train: {}\\ntest: {}'.format(data[train], data[test]))\n"
      ],
      "execution_count": 12,
      "outputs": [
        {
          "output_type": "stream",
          "text": [
            "train: [2.5 3.2 3.5 4.1 4.9]\n",
            "test: [-0.1  0.7  1.   1.6  2. ]\n",
            "train: [-0.1  0.7  1.   1.6  2. ]\n",
            "test: [2.5 3.2 3.5 4.1 4.9]\n"
          ],
          "name": "stdout"
        }
      ]
    },
    {
      "cell_type": "code",
      "metadata": {
        "id": "61AVOe1B29kq",
        "outputId": "1f31d017-07db-49fd-ef7f-e70bd869706a",
        "colab": {
          "base_uri": "https://localhost:8080/"
        }
      },
      "source": [
        "print(fit(-0.1,2.5))"
      ],
      "execution_count": 13,
      "outputs": [
        {
          "output_type": "stream",
          "text": [
            "2.6\n"
          ],
          "name": "stdout"
        }
      ]
    },
    {
      "cell_type": "code",
      "metadata": {
        "id": "eHTKXpok6I1T"
      },
      "source": [
        ""
      ],
      "execution_count": null,
      "outputs": []
    }
  ]
}